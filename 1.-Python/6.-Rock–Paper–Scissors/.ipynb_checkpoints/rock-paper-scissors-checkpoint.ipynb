{
 "cells": [
  {
   "cell_type": "markdown",
   "metadata": {},
   "source": [
    "<img src=\"https://bit.ly/2VnXWr2\" width=\"100\" align=\"left\">"
   ]
  },
  {
   "cell_type": "markdown",
   "metadata": {},
   "source": [
    "# Rock, Paper & Scissors\n",
    "\n",
    "Let's play the famous game against our computer. You can check the rules [here](https://en.wikipedia.org/wiki/Rock%E2%80%93paper%E2%80%93scissors). \n",
    "\n",
    "## Task\n",
    "Create a program that imitates the playability of the well known game of rock, paper, scissors. Follow the guidelines provided.\n",
    "\n",
    "## Tools\n",
    "1. Loop: **for/while**\n",
    "2. Functions: **input(), print()...**\n",
    "3. Conditional statements: **if, elif, else**\n",
    "4. Definition of functions. Modular programming\n",
    "5. Import modules\n",
    "\n",
    "**To solve this challenge, the use of functions is recommended.**\n",
    "\n",
    "#### 1. Import the choice function of the random module."
   ]
  },
  {
   "cell_type": "code",
   "execution_count": 135,
   "metadata": {},
   "outputs": [],
   "source": [
    "import random\n",
    "import math"
   ]
  },
  {
   "cell_type": "markdown",
   "metadata": {},
   "source": [
    "#### 2. Create a list that includes the 3 possible gesture options of the game: 'rock', 'paper' or 'scissors'. Store the list in a variable called `gestures`."
   ]
  },
  {
   "cell_type": "code",
   "execution_count": 136,
   "metadata": {},
   "outputs": [],
   "source": [
    "gestures = ['rock', 'paper', 'scissors']"
   ]
  },
  {
   "cell_type": "markdown",
   "metadata": {},
   "source": [
    "#### 3. Create a variable called `n_rounds` to store the maximum number of rounds to play in a game. \n",
    "Remember that the number of rounds must be odd: 1, 3, 5, ..."
   ]
  },
  {
   "cell_type": "code",
   "execution_count": 137,
   "metadata": {},
   "outputs": [],
   "source": [
    "n_rounds = 5"
   ]
  },
  {
   "cell_type": "markdown",
   "metadata": {},
   "source": [
    "#### 4. Create a variable called `rounds_to_win` to store the number of rounds that a player must win to win the game.\n",
    "**Hint**: the value stored in `rounds_to_win` depends on the value of `n_rounds`. "
   ]
  },
  {
   "cell_type": "code",
   "execution_count": 138,
   "metadata": {},
   "outputs": [
    {
     "name": "stdout",
     "output_type": "stream",
     "text": [
      "3\n"
     ]
    }
   ],
   "source": [
    "def whenToWin(n_rounds):\n",
    "    rounds = math.ceil(n_rounds / 2)\n",
    "    return rounds\n",
    "\n",
    "rounds_to_win = whenToWin(n_rounds)\n",
    "print(rounds_to_win)"
   ]
  },
  {
   "cell_type": "markdown",
   "metadata": {},
   "source": [
    "#### 5. Create two variables to store the number of rounds that the computer and the player have won. Call these variables `cpu_score` and `player_score`."
   ]
  },
  {
   "cell_type": "code",
   "execution_count": 139,
   "metadata": {},
   "outputs": [],
   "source": [
    "cpu_score = 0\n",
    "player_score = 0"
   ]
  },
  {
   "cell_type": "markdown",
   "metadata": {},
   "source": [
    "#### 6. Define a function that randomly returns one of the 3 gesture options.\n",
    "You will use this function to simulate the gesture choice of the computer. "
   ]
  },
  {
   "cell_type": "code",
   "execution_count": 140,
   "metadata": {},
   "outputs": [],
   "source": [
    "def randomReturnGesture():\n",
    "    random_choice = random.choice(gestures)\n",
    "    return random_choice\n",
    "    print(random_choice)"
   ]
  },
  {
   "cell_type": "markdown",
   "metadata": {},
   "source": [
    "#### 7. Define a function that asks the player which is the gesture he or she wants to show: 'rock', 'paper' or 'scissors'.\n",
    "The player should only be allowed to choose one of the 3 gesture options. If the player's choice is not rock, paper or scissors, keep asking until it is."
   ]
  },
  {
   "cell_type": "code",
   "execution_count": 141,
   "metadata": {},
   "outputs": [],
   "source": [
    "def playerChoiceGesture():\n",
    "    choice = input(\"Do you choose rock, paper or scissors? \")\n",
    "    if choice == \"rock\" or choice == \"paper\" or choice == \"scissors\":\n",
    "        return choice\n",
    "    else:\n",
    "        print(\"is not a valid choice. Please try again with rock, paper or scissors\")\n",
    "        while choice != \"rock\" and \"paper\" and \"scissors\":\n",
    "            choice = input(\"Do you choose rock, paper or scissors? \")\n",
    "            if choice == \"rock\" or choice == \"paper\" or choice == \"scissors\":\n",
    "                break\n",
    "        return choice"
   ]
  },
  {
   "cell_type": "code",
   "execution_count": null,
   "metadata": {},
   "outputs": [],
   "source": []
  },
  {
   "cell_type": "code",
   "execution_count": null,
   "metadata": {},
   "outputs": [],
   "source": []
  },
  {
   "cell_type": "markdown",
   "metadata": {},
   "source": [
    "#### 8. Define a function that checks who won a round. \n",
    "The function should return 0 if there is a tie, 1 if the computer wins and 2 if the player wins."
   ]
  },
  {
   "cell_type": "code",
   "execution_count": 142,
   "metadata": {},
   "outputs": [],
   "source": [
    "def whoWonTheRound(player_choice_gesture, randomReturnGesture):\n",
    "    if player_choice_gesture == randomReturnGesture:\n",
    "        return 0\n",
    "    elif player_choice_gesture == \"rock\" and randomReturnGesture == \"scissors\":\n",
    "        return 2\n",
    "    elif player_choice_gesture == \"paper\" and randomReturnGesture == \"scissors\":\n",
    "        return 1\n",
    "    elif player_choice_gesture == \"rock\" and randomReturnGesture == \"paper\":\n",
    "        return 1\n",
    "    elif player_choice_gesture == \"scissors\" and randomReturnGesture == \"paper\":\n",
    "        return 2"
   ]
  },
  {
   "cell_type": "markdown",
   "metadata": {},
   "source": [
    "#### 9. Define a function that prints the choice of the computer, the choice of the player and a message that announces who won the current round. \n",
    "You should also use this function to update the variables that count the number of rounds that the computer and the player have won. The score of the winner increases by one point. If there is a tie, the score does not increase."
   ]
  },
  {
   "cell_type": "code",
   "execution_count": null,
   "metadata": {},
   "outputs": [],
   "source": [
    "def announcer():\n",
    "    player_choice_is = playerChoiceGesture()\n",
    "    cpu_choice_is = randomReturnGesture()\n",
    "    global player_score\n",
    "    global cpu_score\n",
    "    print(\"The hooooman has chosen\", player_choice_is)\n",
    "    print(\"The far superior computer has chosen\", cpu_choice_is)\n",
    "    the_winner_is = whoWonTheRound(player_choice_is, cpu_choice_is)\n",
    "    if the_winner_is == 0:\n",
    "        print(\"This round was a tie and nobody won\")\n",
    "    elif the_winner_is == 1:\n",
    "        print(\"The hooooman won this round\")\n",
    "        player_score = player_score + 1\n",
    "        return player_score\n",
    "    elif the_winner_is == 2:\n",
    "        print(\"The far superior computer won this round\")\n",
    "        cpu_score = cpu_score + 1\n",
    "        return cpu_score"
   ]
  },
  {
   "cell_type": "markdown",
   "metadata": {},
   "source": [
    "#### 10. Now it's time to code the execution of the game using the functions and variables you defined above. \n",
    "\n",
    "First, create a loop structure that repeats while no player reaches the minimum score necessary to win and the number of rounds is less than the maximum number of rounds to play in a game.  \n",
    "\n",
    "Inside the loop, use the functions and variables above to create the execution of a round: ask for the player's choice, generate the random choice of the computer, show the round results, update the scores, etc. "
   ]
  },
  {
   "cell_type": "code",
   "execution_count": 146,
   "metadata": {},
   "outputs": [
    {
     "name": "stdout",
     "output_type": "stream",
     "text": [
      "Do you choose rock, paper or scissors? rock\n",
      "The hooooman has chosen rock\n",
      "The far superior computer has chosen rock\n",
      "This round was a tie and nobody won\n",
      "None\n",
      "The score is (player - computer) ( 0 - 0 )\n",
      "Do you choose rock, paper or scissors? rock\n",
      "The hooooman has chosen rock\n",
      "The far superior computer has chosen paper\n",
      "The hooooman won this round\n",
      "1\n",
      "The score is (player - computer) ( 1 - 0 )\n",
      "Do you choose rock, paper or scissors? rock\n",
      "The hooooman has chosen rock\n",
      "The far superior computer has chosen rock\n",
      "This round was a tie and nobody won\n",
      "None\n",
      "The score is (player - computer) ( 1 - 0 )\n",
      "Do you choose rock, paper or scissors? rock\n",
      "The hooooman has chosen rock\n",
      "The far superior computer has chosen scissors\n",
      "The far superior computer won this round\n",
      "1\n",
      "The score is (player - computer) ( 1 - 1 )\n",
      "Do you choose rock, paper or scissors? rock\n",
      "The hooooman has chosen rock\n",
      "The far superior computer has chosen scissors\n",
      "The far superior computer won this round\n",
      "2\n",
      "The score is (player - computer) ( 1 - 2 )\n",
      "Do you choose rock, paper or scissors? rock\n",
      "The hooooman has chosen rock\n",
      "The far superior computer has chosen paper\n",
      "The hooooman won this round\n",
      "2\n",
      "The score is (player - computer) ( 2 - 2 )\n",
      "Do you choose rock, paper or scissors? rock\n",
      "The hooooman has chosen rock\n",
      "The far superior computer has chosen scissors\n",
      "The far superior computer won this round\n",
      "3\n",
      "The score is (player - computer) ( 2 - 3 )\n",
      "Do you choose rock, paper or scissors? rock\n",
      "The hooooman has chosen rock\n",
      "The far superior computer has chosen rock\n",
      "This round was a tie and nobody won\n",
      "None\n",
      "The score is (player - computer) ( 2 - 3 )\n",
      "Do you choose rock, paper or scissors? rock\n",
      "The hooooman has chosen rock\n",
      "The far superior computer has chosen scissors\n",
      "The far superior computer won this round\n",
      "4\n",
      "The score is (player - computer) ( 2 - 4 )\n",
      "Do you choose rock, paper or scissors? rock\n",
      "The hooooman has chosen rock\n",
      "The far superior computer has chosen scissors\n",
      "The far superior computer won this round\n",
      "5\n",
      "The score is (player - computer) ( 2 - 5 )\n",
      "The superior computer has won the game\n"
     ]
    }
   ],
   "source": [
    "cpu_score = 0\n",
    "player_score = 0\n",
    "\n",
    "while cpu_score <= n_rounds and player_score <= n_rounds:\n",
    "    print(announcer())\n",
    "    print(\"The score is (player - computer)\", \"(\",player_score,\"-\",cpu_score,\")\")\n",
    "    if cpu_score == 5:\n",
    "        print(\"The superior computer has won the game\")\n",
    "        break\n",
    "    elif player_score == 5:\n",
    "        print(\"The puny hoooman has won the game\")\n",
    "        break"
   ]
  },
  {
   "cell_type": "markdown",
   "metadata": {},
   "source": [
    "#### 11. Print the winner of the game based on who won more rounds.\n",
    "Remember that the game might be tied. "
   ]
  },
  {
   "cell_type": "code",
   "execution_count": 147,
   "metadata": {},
   "outputs": [],
   "source": [
    "### Done above ;)"
   ]
  },
  {
   "cell_type": "markdown",
   "metadata": {},
   "source": [
    "# Bonus: Rock, Paper, Scissors, Lizard & Spock\n",
    "![](images/rpsls.jpg)\n",
    "\n",
    "In this challenge, you need to improve the previous game by adding two new options. To know more about the rules of the improved version of rock, paper, scissors, check this [link](http://www.samkass.com/theories/RPSSL.html). \n",
    "\n",
    "In addition, you will also need to improve how the game interacts with the player: the number of rounds to play, which must be an odd number, will be requested to the user until a valid number is entered. Define a new function to make that request.\n",
    "\n",
    "**Hint**: Try to reuse the code that you already coded in the previous challenge. If your code is efficient, this bonus will only consist of simple modifications to the original game."
   ]
  },
  {
   "cell_type": "code",
   "execution_count": null,
   "metadata": {},
   "outputs": [],
   "source": []
  }
 ],
 "metadata": {
  "kernelspec": {
   "display_name": "Python 3",
   "language": "python",
   "name": "python3"
  },
  "language_info": {
   "codemirror_mode": {
    "name": "ipython",
    "version": 3
   },
   "file_extension": ".py",
   "mimetype": "text/x-python",
   "name": "python",
   "nbconvert_exporter": "python",
   "pygments_lexer": "ipython3",
   "version": "3.8.2"
  }
 },
 "nbformat": 4,
 "nbformat_minor": 2
}
