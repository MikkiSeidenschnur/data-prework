{
 "cells": [
  {
   "cell_type": "markdown",
   "metadata": {},
   "source": [
    "<img src=\"https://bit.ly/2VnXWr2\" width=\"100\" align=\"left\">"
   ]
  },
  {
   "cell_type": "markdown",
   "metadata": {},
   "source": [
    "# Temperature Sensor\n",
    "\n",
    "There is a temperature sensor in the processor of your company's server. The company wants to analyze the data provided by the sensor to decide if they should change the cooling system for a better one. As changing the cooling system is expensive and you are an excellent data analyst, you can't make a decision without basis.\n",
    "\n",
    "## Tools\n",
    "You don't necessarily need to use all the tools. Maybe you opt to use some of them or completely different ones, they are given to help you shape the exercise. Programming exercises can be solved in many different ways.\n",
    "1. Data structures: **lists**\n",
    "2. Loops: **list comprehension**\n",
    "3. Functions: **min, max, print, len**\n",
    "4. Conditional statements: **if-elif-else**\n",
    "\n",
    "## Tasks\n",
    "The temperatures measured throughout the 24 hours of a day are:"
   ]
  },
  {
   "cell_type": "code",
   "execution_count": 210,
   "metadata": {},
   "outputs": [],
   "source": [
    "temperatures_C = [33, 66, 65, 0, 59, 60, 62, 64, 70, 76, 80, 81, 80, 83, 90, 79, 61, 53, 50, 49, 53, 48, 45, 39]"
   ]
  },
  {
   "cell_type": "markdown",
   "metadata": {},
   "source": [
    "The first element of the list is the temperature at 12am, the second element is the temperature at 1am, and so on. \n",
    "\n",
    "The company has decided that if one of the following events occurs, then the cooling system needs to be replaced for a new one to avoid damaging the processor.\n",
    "* More than 4 temperatures are greater than or equal to 70ºC.\n",
    "* Any temperature is above 80ºC.\n",
    "* The average temperature exceeds 65ºC.\n",
    "\n",
    "Follow the steps so that you can make the decision.\n",
    "\n",
    "#### 1. Find the minimum temperature of the day and store it in a variable."
   ]
  },
  {
   "cell_type": "code",
   "execution_count": 211,
   "metadata": {},
   "outputs": [
    {
     "name": "stdout",
     "output_type": "stream",
     "text": [
      "0\n"
     ]
    }
   ],
   "source": [
    "minimum_temperature = min(temperatures_C)\n",
    "print(minimum_temperature)"
   ]
  },
  {
   "cell_type": "markdown",
   "metadata": {},
   "source": [
    "#### 2. Find the maximum temperature of the day and store it in a variable."
   ]
  },
  {
   "cell_type": "code",
   "execution_count": 212,
   "metadata": {},
   "outputs": [
    {
     "name": "stdout",
     "output_type": "stream",
     "text": [
      "90\n"
     ]
    }
   ],
   "source": [
    "maximum_temperature = max(temperatures_C)\n",
    "print(maximum_temperature)"
   ]
  },
  {
   "cell_type": "markdown",
   "metadata": {},
   "source": [
    "#### 3. Create a list with the temperatures that are greater than or equal to 70ºC. Store it in a variable."
   ]
  },
  {
   "cell_type": "code",
   "execution_count": 213,
   "metadata": {},
   "outputs": [
    {
     "name": "stdout",
     "output_type": "stream",
     "text": [
      "[70, 76, 80, 81, 80, 83, 90, 79]\n"
     ]
    }
   ],
   "source": [
    "maximum_allowable_temperature = 70\n",
    "temperatures_above_max = []\n",
    "\n",
    "for temperature in temperatures_C:\n",
    "    if temperature >= maximum_allowable_temperature:\n",
    "        temperatures_above_max.append(temperature)\n",
    "        \n",
    "print(temperatures_above_max)"
   ]
  },
  {
   "cell_type": "markdown",
   "metadata": {},
   "source": [
    "#### 4. Find the average temperature of the day and store it in a variable."
   ]
  },
  {
   "cell_type": "code",
   "execution_count": 214,
   "metadata": {},
   "outputs": [
    {
     "name": "stdout",
     "output_type": "stream",
     "text": [
      "60.25\n"
     ]
    }
   ],
   "source": [
    "#Importing statistics package\n",
    "import statistics\n",
    "\n",
    "average_temperature = statistics.mean(temperatures_C)\n",
    "print(average_temperature)"
   ]
  },
  {
   "cell_type": "markdown",
   "metadata": {},
   "source": [
    "#### 5. Imagine that there was a sensor failure at 3am and the data for that specific hour was not recorded. How would you estimate the missing value? Replace the current value of the list at 3am for an estimation. "
   ]
  },
  {
   "cell_type": "code",
   "execution_count": 215,
   "metadata": {},
   "outputs": [
    {
     "name": "stdout",
     "output_type": "stream",
     "text": [
      "62.0\n"
     ]
    }
   ],
   "source": [
    "### Originally wanted to solve this with a for loop, but decided it was overkill for a single value\n",
    "\n",
    "temp_sensor_fault_estimation = (temperatures_C[2] + temperatures_C[4]) / 2\n",
    "        \n",
    "print(temp_sensor_fault_estimation)"
   ]
  },
  {
   "cell_type": "markdown",
   "metadata": {},
   "source": [
    "#### 6. Bonus: the maintenance staff is from the United States and does not understand the international metric system. Help them by converting the temperatures from Celsius to Fahrenheit.\n",
    "To know more about temperature conversion check this [link](https://en.wikipedia.org/wiki/Conversion_of_units_of_temperature).\n",
    "\n",
    "**Formula**: \n",
    "\n",
    "$F = 1.8 * C + 32$"
   ]
  },
  {
   "cell_type": "code",
   "execution_count": 216,
   "metadata": {},
   "outputs": [
    {
     "name": "stdout",
     "output_type": "stream",
     "text": [
      "[91.0, 151.0, 149.0, 32.0, 138.0, 140.0, 144.0, 147.0, 158.0, 169.0, 176.0, 178.0, 176.0, 181.0, 194.0, 174.0, 142.0, 127.0, 122.0, 120.0, 127.0, 118.0, 113.0, 102.0]\n"
     ]
    }
   ],
   "source": [
    "def celsius_to_fahrenheit(temperature_in_C):\n",
    "    temperature_in_F = 1.8 * temperature_in_C + 32\n",
    "    return round(temperature_in_F, 0)\n",
    "\n",
    "temperatures_F = []    \n",
    "    \n",
    "for temperature in temperatures_C:\n",
    "    temperatures_F.append(celsius_to_fahrenheit(temperature))\n",
    "\n",
    "print(temperature_F)"
   ]
  },
  {
   "cell_type": "markdown",
   "metadata": {},
   "source": [
    "#### 7. Make a decision!\n",
    "Now it's time to make a decision taking into account what you have seen until now. \n",
    "\n",
    "Remember that if one of the following events occurs, then the cooling system needs to be replaced for a new one to avoid damaging the processor.\n",
    "* More than 4 temperatures are greater than or equal to 70ºC.\n",
    "* Any temperature is above 80ºC.\n",
    "* The average temperature exceeds 65ºC.\n",
    "\n",
    "#### To make your decision, check if any of the three conditions above is met. You might need to use some of the variables you created in steps 1 to 6. Print a message to show if the cooling system needs to be changed or not."
   ]
  },
  {
   "cell_type": "code",
   "execution_count": 217,
   "metadata": {},
   "outputs": [
    {
     "name": "stdout",
     "output_type": "stream",
     "text": [
      "Your cooling system needs to be changed\n"
     ]
    }
   ],
   "source": [
    "def decision_matrix(temperatures_above_max, maximum_temperature, average_temperature):\n",
    "    if len(temperatures_above_max) >= 4 or maximum_temperature > 80 or average_temperature > 65:\n",
    "        print(\"Your cooling system needs to be changed\")\n",
    "    else:\n",
    "        print(\"You don't need to change it just yet\")\n",
    "\n",
    "decision_matrix(temperatures_above_max, maximum_temperature, average_temperature)"
   ]
  },
  {
   "cell_type": "markdown",
   "metadata": {},
   "source": [
    "## Bonus\n",
    "\n",
    "The company has decided that the decision you made is not valid. They want you to analyze the data again but this time, the conditions that need to be met in order to change the cooling system are different.\n",
    "\n",
    "This time, if one of the following events occurs, then the cooling system needs to be replaced:\n",
    "* The temperature is greater than 70ºC during more than 4 consecutive hours.\n",
    "* Any temperature is above 80ºC.\n",
    "* The average temperature exceeds 65ºC.\n",
    "\n",
    "Follow the steps so that you can make the decision.\n",
    "\n",
    "#### 1. Create a list with the hours where the temperature is greater than 70ºC. Store it in a variable."
   ]
  },
  {
   "cell_type": "code",
   "execution_count": 218,
   "metadata": {},
   "outputs": [
    {
     "name": "stdout",
     "output_type": "stream",
     "text": [
      "[9, 10, 11, 12, 13, 14, 15]\n"
     ]
    }
   ],
   "source": [
    "list_of_hours = []\n",
    "hour = 0\n",
    "temperature_max_allowed = 70\n",
    "\n",
    "while hour < 24:\n",
    "    list_of_hours.append(hour)\n",
    "    hour += 1\n",
    "\n",
    "temperatures_C_dict = dict(zip(list_of_hours, temperatures_C))\n",
    "\n",
    "def getKeysByValue(temperatures_C_dict, value_to_find):\n",
    "    listOfKeys = list()\n",
    "    listOfItems = temperatures_C_dict.items()\n",
    "    for item  in listOfItems:\n",
    "        if item[1] > value_to_find:\n",
    "            listOfKeys.append(item[0])\n",
    "    return  listOfKeys\n",
    "\n",
    "list_of_hours_above_70C = getKeysByValue(temperatures_C_dict, temperature_max_allowed)\n",
    "print(list_of_hours_above_70C)"
   ]
  },
  {
   "cell_type": "markdown",
   "metadata": {},
   "source": [
    "#### 2. Check if the list you created in step 1 has more than 4 consecutive hours. "
   ]
  },
  {
   "cell_type": "code",
   "execution_count": 219,
   "metadata": {},
   "outputs": [
    {
     "name": "stdout",
     "output_type": "stream",
     "text": [
      "The processor has been overheated for 1 hour\n",
      "The processor has been overheated for 2 hours\n",
      "The processor has been overheated for 3 hours\n",
      "The processor has been overheated for 4 hours\n",
      "There's been more than 4 hours above 70 degrees\n"
     ]
    }
   ],
   "source": [
    "def moreThan4Hours(listOfKeys):\n",
    "    exceed_counter = 0\n",
    "    for hour in listOfKeys:\n",
    "        if hour == 9:\n",
    "            exceed_counter += 1\n",
    "            previous_hour = hour\n",
    "            print(\"The processor has been overheated for\", exceed_counter, \"hour\")\n",
    "        elif hour == previous_hour + 1:\n",
    "            exceed_counter += 1\n",
    "            previous_hour = hour\n",
    "            print(\"The processor has been overheated for\", exceed_counter, \"hours\")\n",
    "            if exceed_counter == 4:\n",
    "                print(\"There's been more than\", exceed_counter, \"hours above 70 degrees\")\n",
    "                return True\n",
    "                break\n",
    "        else:\n",
    "            exceed_counter = 0\n",
    "\n",
    "too_warm_for_4_hours = moreThan4Hours(list_of_hours_above_70C)"
   ]
  },
  {
   "cell_type": "markdown",
   "metadata": {},
   "source": [
    "#### 3. Make the decision!\n",
    "To make your decision, check if any of the three conditions is met. Print a message to show if the cooling system needs to be changed or not."
   ]
  },
  {
   "cell_type": "code",
   "execution_count": 220,
   "metadata": {},
   "outputs": [
    {
     "name": "stdout",
     "output_type": "stream",
     "text": [
      "Your cooling system needs to be changed\n"
     ]
    }
   ],
   "source": [
    "def decision_matrix(too_warm_for_4_hours, maximum_temperature, average_temperature):\n",
    "    if too_warm_for_4_hours == True or maximum_temperature > 80 or average_temperature > 65:\n",
    "        print(\"Your cooling system needs to be changed\")\n",
    "    else:\n",
    "        print(\"You don't need to change it just yet\")\n",
    "\n",
    "decision_matrix(too_warm_for_4_hours, maximum_temperature, average_temperature)"
   ]
  },
  {
   "cell_type": "markdown",
   "metadata": {},
   "source": [
    "#### 4. Find the average value of the temperature lists (ºC and ºF). What is the relation between both average values?"
   ]
  },
  {
   "cell_type": "code",
   "execution_count": 233,
   "metadata": {},
   "outputs": [
    {
     "name": "stdout",
     "output_type": "stream",
     "text": [
      "60\n",
      "140\n",
      "The relation is the formula given in section 1.6\n"
     ]
    }
   ],
   "source": [
    "### Could be using the round function as well, but the temperature makes more sense in int anyways. \n",
    "### The relation is the formula given in section 1.6\n",
    "\n",
    "average_fahrenheit = int(statistics.mean(temperatures_F))\n",
    "average_celsius = int(statistics.mean(temperatures_C))\n",
    "\n",
    "print(average_celsius)\n",
    "print(average_fahrenheit)\n",
    "\n",
    "def checkRelation(fahrenheit, celsius):\n",
    "    if celsius_to_fahrenheit(celsius) == fahrenheit:\n",
    "        print(\"The relation is the formula given in section 1.6\")\n",
    "    else: \n",
    "        relation = fahrenheit / celsius\n",
    "        print(\"the relation between the values are a factor of\", round(relation,1), \"from celcius to fahrenheit\")\n",
    "\n",
    "checkRelation(average_fahrenheit, average_celsius)"
   ]
  },
  {
   "cell_type": "markdown",
   "metadata": {},
   "source": [
    "#### 5. Find the standard deviation of the temperature lists (ºC and ºF). What is the relation between both standard deviations?"
   ]
  },
  {
   "cell_type": "code",
   "execution_count": 234,
   "metadata": {},
   "outputs": [
    {
     "name": "stdout",
     "output_type": "stream",
     "text": [
      "35\n",
      "19\n",
      "the relation between the values are a factor of 1.8 from celcius to fahrenheit\n"
     ]
    }
   ],
   "source": [
    "### In this assignment the relation has been found by dividing the two values of fahrenheit and celsius.\n",
    "\n",
    "stdev_fahrenheit = int(statistics.stdev(temperatures_F))\n",
    "stdev_celsius = int(statistics.stdev(temperatures_C))\n",
    "\n",
    "print(stdev_fahrenheit)\n",
    "print(stdev_celsius)\n",
    "\n",
    "checkRelation(stdev_fahrenheit, stdev_celsius)"
   ]
  },
  {
   "cell_type": "code",
   "execution_count": null,
   "metadata": {},
   "outputs": [],
   "source": []
  },
  {
   "cell_type": "code",
   "execution_count": null,
   "metadata": {},
   "outputs": [],
   "source": []
  }
 ],
 "metadata": {
  "kernelspec": {
   "display_name": "Python 3",
   "language": "python",
   "name": "python3"
  },
  "language_info": {
   "codemirror_mode": {
    "name": "ipython",
    "version": 3
   },
   "file_extension": ".py",
   "mimetype": "text/x-python",
   "name": "python",
   "nbconvert_exporter": "python",
   "pygments_lexer": "ipython3",
   "version": "3.8.2"
  }
 },
 "nbformat": 4,
 "nbformat_minor": 2
}
