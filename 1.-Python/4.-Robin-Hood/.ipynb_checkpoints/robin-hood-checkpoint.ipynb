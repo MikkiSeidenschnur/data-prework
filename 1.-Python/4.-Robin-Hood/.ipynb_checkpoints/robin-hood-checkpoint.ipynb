{
 "cells": [
  {
   "cell_type": "markdown",
   "metadata": {},
   "source": [
    "<img src=\"https://bit.ly/2VnXWr2\" width=\"100\" align=\"left\"/>"
   ]
  },
  {
   "cell_type": "markdown",
   "metadata": {},
   "source": [
    "# Robin Hood\n",
    "Robin Hood has entered a competition to win the archery contest in Sherwood. With his bow and arrows, he needs to shoot on a target and try to hit as close as possible to the center.\n",
    "\n",
    "![](images/arrows.jpg)\n",
    "\n",
    "## Context\n",
    "In this challenge, the landing position of arrows shot by archers in the competition will be represented using 2-dimensional coordinates. \n",
    "\n",
    "In the 2-dimensional space, a point can be defined by a pair of values that correspond to the horizontal coordinate (x) and the vertical coordinate (y). For example, in our case, an arrow that hits the center of the archery target will land in position (0, 0) on the coordinate axes. \n",
    "\n",
    "The space can be divided into 4 zones (quadrants): Q1, Q2, Q3, Q4. If a point is in Q1, both its x coordinate and y coordinate are positive. Any point with a null x or y coordinate is considered to not belong to any quadrant. \n",
    "\n",
    "If you want to know more about the cartesian coordinate system, you can check this [link](https://en.wikipedia.org/wiki/Cartesian_coordinate_system). \n",
    "\n",
    "## Tools\n",
    "You don't necessarily need to use all the tools. Maybe you opt to use some of them or completely different ones, they are given to help you shape the exercise. Programming exercises can be solved in many different ways.\n",
    "* Data structures: **lists, sets, tuples**\n",
    "* Conditional statements: **if-elif-else**\n",
    "* Loop: **while/for**\n",
    "* Minimum (optional sorting)\n",
    "\n",
    "## Tasks\n",
    "Robin Hood has hit the following points:"
   ]
  },
  {
   "cell_type": "code",
   "execution_count": 114,
   "metadata": {},
   "outputs": [],
   "source": [
    "points = [(4, 5), (-0, 2), (4, 7), (1, -3), (3, -2), (4, 5), (3, 2), (5, 7), (-5, 7), (2, 2), (-4, 5), (0, -2),\n",
    "          (-4, 7), (-1, 3), (-3, 2), (-4, -5), (-3, 2), (5, 7), (5, 7), (2, 2), (9, 9), (-8, -9)]"
   ]
  },
  {
   "cell_type": "markdown",
   "metadata": {},
   "source": [
    "#### 1. Robin Hood is famous for hitting an arrow with another arrow. Find the coordinates of the points where an arrow hits another arrow."
   ]
  },
  {
   "cell_type": "code",
   "execution_count": 109,
   "metadata": {},
   "outputs": [
    {
     "name": "stdout",
     "output_type": "stream",
     "text": [
      "Robin hood has done it again and hit a previous arrow in coordinates (4, 5)\n",
      "Robin hood has done it again and hit a previous arrow in coordinates (-3, 2)\n",
      "Robin hood has done it again and hit a previous arrow in coordinates (5, 7)\n",
      "Robin hood has done it again and hit a previous arrow in coordinates (5, 7)\n",
      "Robin hood has done it again and hit a previous arrow in coordinates (2, 2)\n",
      "[(4, 5), (0, 2), (4, 7), (1, -3), (3, -2), (4, 5), (3, 2), (5, 7), (-5, 7), (2, 2), (-4, 5), (0, -2), (-4, 7), (-1, 3), (-3, 2), (-4, -5), (-3, 2), (5, 7), (5, 7), (2, 2), (9, 9), (-8, -9)]\n",
      " \n",
      "[(4, 5), (-3, 2), (5, 7), (5, 7), (2, 2)]\n"
     ]
    }
   ],
   "source": [
    "populater = []\n",
    "duplicates = []\n",
    "\n",
    "for point in points:\n",
    "    if point in populater:\n",
    "        duplicates.append(point)\n",
    "        print(\"Robin hood has done it again and hit a previous arrow in coordinates\", point)\n",
    "    populater.append(point)\n",
    "\n",
    "print(populater)\n",
    "print(\" \")\n",
    "print(duplicates)"
   ]
  },
  {
   "cell_type": "markdown",
   "metadata": {},
   "source": [
    "#### 2. Calculate how many arrows have fallen in each quadrant. \n",
    "**Note**: the arrows that fall in the axis (x=0 or y=0) don't belong to any quadrant."
   ]
  },
  {
   "cell_type": "code",
   "execution_count": 110,
   "metadata": {},
   "outputs": [
    {
     "name": "stdout",
     "output_type": "stream",
     "text": [
      "10 landed in quadrant 1\n",
      "6 landed in quadrant 2\n",
      "2 landed in quadrant 3\n",
      "2 landed in quadrant 4\n",
      "2 landed in no quadrant\n",
      "You've counted the same amount of arrows shot in each quadrant as there is on the board\n"
     ]
    }
   ],
   "source": [
    "quadrant_1 = []\n",
    "quadrant_2 = []\n",
    "quadrant_3 = []\n",
    "quadrant_4 = []\n",
    "no_quadrant = []\n",
    "\n",
    "for point in points:\n",
    "    for coordinates in point:\n",
    "        if point[0] > 0 and point[1] > 0:\n",
    "            quadrant_1.append(point)\n",
    "            break\n",
    "        elif point[0] < 0 and point[1] > 0:\n",
    "            quadrant_2.append(point)\n",
    "            break\n",
    "        elif point[0] < 0 and point[1] < 0:\n",
    "            quadrant_3.append(point)\n",
    "            break\n",
    "        elif point[0] > 0 and point[1] < 0:\n",
    "            quadrant_4.append(point)\n",
    "            break\n",
    "        else:\n",
    "            no_quadrant.append(point)\n",
    "            break\n",
    "\n",
    "count_quadrant_1 = len(quadrant_1)\n",
    "count_quadrant_2 = len(quadrant_2)\n",
    "count_quadrant_3 = len(quadrant_3)\n",
    "count_quadrant_4 = len(quadrant_4)\n",
    "count_no_quadrant = len(no_quadrant)\n",
    "\n",
    "print(count_quadrant_1, \"landed in quadrant 1\")\n",
    "print(count_quadrant_2, \"landed in quadrant 2\")\n",
    "print(count_quadrant_3, \"landed in quadrant 3\")\n",
    "print(count_quadrant_4, \"landed in quadrant 4\")\n",
    "print(count_no_quadrant, \"landed in no quadrant\")\n",
    "\n",
    "def List_checker(x,a,b,c,d,e):\n",
    "    if len(x) == (a + b + c + d + e):\n",
    "        print(\"You've counted the same amount of arrows shot in each quadrant as there is on the board\")\n",
    "    else:\n",
    "        print(\"Your problem-solving skills are inferior\")\n",
    "        \n",
    "List_checker(points,count_quadrant_1,count_quadrant_2,count_quadrant_3,count_quadrant_4,count_no_quadrant)\n",
    "            "
   ]
  },
  {
   "cell_type": "markdown",
   "metadata": {},
   "source": [
    "#### 3. Find the point closest to the center. Calculate its distance to the center. \n",
    "Take into account that there might be more than one point at the minimum distance to the center.\n",
    "\n",
    "**Hint**: Use the Euclidean distance. You can find more information about it [here](https://en.wikipedia.org/wiki/Euclidean_distance).  \n",
    "**Hint**: Defining a function that calculates the distance to the center can help."
   ]
  },
  {
   "cell_type": "code",
   "execution_count": 116,
   "metadata": {},
   "outputs": [
    {
     "name": "stdout",
     "output_type": "stream",
     "text": [
      "The coordinates ( 4 , 5 ) have a distance of 6.4031242374328485 to the center\n",
      "The coordinates ( 0 , 2 ) have a distance of 2.0 to the center\n",
      "The coordinates ( 4 , 7 ) have a distance of 8.06225774829855 to the center\n",
      "The coordinates ( 1 , -3 ) have a distance of 3.1622776601683795 to the center\n",
      "The coordinates ( 3 , -2 ) have a distance of 3.605551275463989 to the center\n",
      "The coordinates ( 4 , 5 ) have a distance of 6.4031242374328485 to the center\n",
      "The coordinates ( 3 , 2 ) have a distance of 3.605551275463989 to the center\n",
      "The coordinates ( 5 , 7 ) have a distance of 8.602325267042627 to the center\n",
      "The coordinates ( -5 , 7 ) have a distance of 8.602325267042627 to the center\n",
      "The coordinates ( 2 , 2 ) have a distance of 2.8284271247461903 to the center\n",
      "The coordinates ( -4 , 5 ) have a distance of 6.4031242374328485 to the center\n",
      "The coordinates ( 0 , -2 ) have a distance of 2.0 to the center\n",
      "The coordinates ( -4 , 7 ) have a distance of 8.06225774829855 to the center\n",
      "The coordinates ( -1 , 3 ) have a distance of 3.1622776601683795 to the center\n",
      "The coordinates ( -3 , 2 ) have a distance of 3.605551275463989 to the center\n",
      "The coordinates ( -4 , -5 ) have a distance of 6.4031242374328485 to the center\n",
      "The coordinates ( -3 , 2 ) have a distance of 3.605551275463989 to the center\n",
      "The coordinates ( 5 , 7 ) have a distance of 8.602325267042627 to the center\n",
      "The coordinates ( 5 , 7 ) have a distance of 8.602325267042627 to the center\n",
      "The coordinates ( 2 , 2 ) have a distance of 2.8284271247461903 to the center\n",
      "The coordinates ( 9 , 9 ) have a distance of 12.727922061357855 to the center\n",
      "The coordinates ( -8 , -9 ) have a distance of 12.041594578792296 to the center\n",
      "[6.4031242374328485, 2.0, 8.06225774829855, 3.1622776601683795, 3.605551275463989, 6.4031242374328485, 3.605551275463989, 8.602325267042627, 8.602325267042627, 2.8284271247461903, 6.4031242374328485, 2.0, 8.06225774829855, 3.1622776601683795, 3.605551275463989, 6.4031242374328485, 3.605551275463989, 8.602325267042627, 8.602325267042627, 2.8284271247461903, 12.727922061357855, 12.041594578792296]\n"
     ]
    }
   ],
   "source": [
    "import math\n",
    "\n",
    "distance = 0\n",
    "\n",
    "def distance_to_origin_calculator(x,y):\n",
    "    distance = math.sqrt(x**2 + y**2)\n",
    "    print(\"The coordinates\", \"(\",x,\",\",y,\")\", \"have a distance of\", distance, \"to the center\")\n",
    "    return distance\n",
    "\n",
    "list_of_distances = []\n",
    "\n",
    "for point in points:\n",
    "    for coordinates in point:\n",
    "        list_of_distances.append(distance_to_origin_calculator(point[0],point[1]))\n",
    "        break\n",
    "\n",
    "print(list_of_distances)"
   ]
  },
  {
   "cell_type": "markdown",
   "metadata": {},
   "source": [
    "#### 4. If the archery target has a radius of 9, calculate the number of arrows that won't hit the target. \n",
    "**Hint**: Use the function created in step 3. "
   ]
  },
  {
   "cell_type": "code",
   "execution_count": 120,
   "metadata": {},
   "outputs": [
    {
     "name": "stdout",
     "output_type": "stream",
     "text": [
      "The target was missed 2 times\n"
     ]
    }
   ],
   "source": [
    "count = 0\n",
    "\n",
    "for distance in list_of_distances:\n",
    "    if distance > 9:\n",
    "        count += 1\n",
    "        \n",
    "print(\"The target was missed\", count, \"times\")"
   ]
  },
  {
   "cell_type": "code",
   "execution_count": null,
   "metadata": {},
   "outputs": [],
   "source": []
  }
 ],
 "metadata": {
  "kernelspec": {
   "display_name": "Python 3",
   "language": "python",
   "name": "python3"
  },
  "language_info": {
   "codemirror_mode": {
    "name": "ipython",
    "version": 3
   },
   "file_extension": ".py",
   "mimetype": "text/x-python",
   "name": "python",
   "nbconvert_exporter": "python",
   "pygments_lexer": "ipython3",
   "version": "3.8.2"
  }
 },
 "nbformat": 4,
 "nbformat_minor": 2
}
